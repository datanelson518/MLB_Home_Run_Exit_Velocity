{
 "cells": [
  {
   "cell_type": "markdown",
   "metadata": {},
   "source": [
    "# Major League Baseball Home Run Exit Velocities\n",
    "\n",
    "One of the most recent debates in Major League Baseball is focused on why more home runs were hit in the 2017 season than any other season in the leagues history. There were 6,105 home runs hit in the 2017 season, which is more home runs than in the peak of the steroid era and everyone wants to know why. One specific area of interest for investigation is related to the most important item to the game, the baseball. During the 2017 season there were numerous complaints from major league pitchers that the ball felt different and the result was a record breaking year for home runs.\n",
    "\n",
    "Thanks to Baseball Savant and their StatCast technology we can begin to understand what is happening by analyzing the data tracked on every pitch that was hit for a home run during these seasons. After a high level review of the data and some outside research I found a specific stat known as the Home Run Exit Velocity. Home Run Exit Velocity as defined by Baseball Savant is the speed at which the baseball leaves the bat after being hit and it would make sense that an increase in speed would lead to further distance and thus yield a home run. \n",
    "\n",
    "So, using machine learning modeling techniques I will build a production level regression model to draw a conclusion on what features involved in a home run are most influential to the home run exit velocity. The data that will be used to train this model will come from three different aspects:\n",
    "1. StatCast pitch data for all home run hits\n",
    "2. Sample of baseballs used in the 2015, 2016 and 2017 seasons\n",
    "3. Baseball player personal stats (height, weight, age)\n",
    "\n",
    "From this model I will draw a conclusion about what are the most influential features contributing to a batters home run exit velocity."
   ]
  },
  {
   "cell_type": "code",
   "execution_count": 1,
   "metadata": {},
   "outputs": [],
   "source": [
    "import pandas as pd\n",
    "import numpy as np\n",
    "from scipy import stats \n",
    "\n",
    "from bs4 import BeautifulSoup\n",
    "import requests\n",
    "import json\n",
    "import time"
   ]
  },
  {
   "cell_type": "markdown",
   "metadata": {},
   "source": [
    "## Data Cleaning\n",
    "\n",
    "### Import the Data\n",
    "\n",
    "The following notebook will load in two datasets for review and cleaning:\n",
    "1. Each home run hit during the 2015, 2016 and 2017 MLB seasons\n",
    "2. Stats from a sample of the actual baseballs taken from the 2015, 2016 and 2017 MLB seasons\n",
    "3. I will also perform a webscrape of the website Baseball Savant for each players personal physical stats that hit a home run in the 2015, 2016 and 2017 seasons.\n",
    "    - Height\n",
    "    - Weight\n",
    "    - Age\n",
    "    \n",
    "URL : https://baseballsavant.mlb.com/"
   ]
  },
  {
   "cell_type": "markdown",
   "metadata": {},
   "source": [
    "#### Home Runs\n",
    "\n",
    "To start I will review and clean the largest of my three datasets which is the statistical data on each home run hit during the 2015, 2016 and 2017 seasons."
   ]
  },
  {
   "cell_type": "code",
   "execution_count": 2,
   "metadata": {},
   "outputs": [],
   "source": [
    "hr_df = pd.read_csv('../data/home_runs_15_16_17.csv')\n",
    "baseballs_df = pd.read_excel('../data/baseballs.xlsx')"
   ]
  },
  {
   "cell_type": "code",
   "execution_count": 3,
   "metadata": {},
   "outputs": [],
   "source": [
    "hr_df.columns = [x.lower().replace(' ', '_') for x in hr_df.columns]"
   ]
  },
  {
   "cell_type": "code",
   "execution_count": 4,
   "metadata": {
    "scrolled": false
   },
   "outputs": [
    {
     "data": {
      "text/html": [
       "<div>\n",
       "<style scoped>\n",
       "    .dataframe tbody tr th:only-of-type {\n",
       "        vertical-align: middle;\n",
       "    }\n",
       "\n",
       "    .dataframe tbody tr th {\n",
       "        vertical-align: top;\n",
       "    }\n",
       "\n",
       "    .dataframe thead th {\n",
       "        text-align: right;\n",
       "    }\n",
       "</style>\n",
       "<table border=\"1\" class=\"dataframe\">\n",
       "  <thead>\n",
       "    <tr style=\"text-align: right;\">\n",
       "      <th></th>\n",
       "      <th>pitch_type</th>\n",
       "      <th>game_date</th>\n",
       "      <th>release_speed</th>\n",
       "      <th>release_pos_x</th>\n",
       "      <th>release_pos_z</th>\n",
       "      <th>player_name</th>\n",
       "      <th>batter</th>\n",
       "      <th>pitcher</th>\n",
       "      <th>events</th>\n",
       "      <th>description</th>\n",
       "      <th>...</th>\n",
       "      <th>home_score</th>\n",
       "      <th>away_score</th>\n",
       "      <th>bat_score</th>\n",
       "      <th>fld_score</th>\n",
       "      <th>post_away_score</th>\n",
       "      <th>post_home_score</th>\n",
       "      <th>post_bat_score</th>\n",
       "      <th>post_fld_score</th>\n",
       "      <th>if_fielding_alignment</th>\n",
       "      <th>of_fielding_alignment</th>\n",
       "    </tr>\n",
       "  </thead>\n",
       "  <tbody>\n",
       "    <tr>\n",
       "      <th>0</th>\n",
       "      <td>CH</td>\n",
       "      <td>6/10/17</td>\n",
       "      <td>84.5</td>\n",
       "      <td>-3.4020</td>\n",
       "      <td>6.4696</td>\n",
       "      <td>Aaron Judge</td>\n",
       "      <td>592450</td>\n",
       "      <td>501957</td>\n",
       "      <td>home_run</td>\n",
       "      <td>hit_into_play_score</td>\n",
       "      <td>...</td>\n",
       "      <td>0</td>\n",
       "      <td>0</td>\n",
       "      <td>0</td>\n",
       "      <td>0</td>\n",
       "      <td>0</td>\n",
       "      <td>0</td>\n",
       "      <td>0</td>\n",
       "      <td>0</td>\n",
       "      <td>Infield shift</td>\n",
       "      <td>Standard</td>\n",
       "    </tr>\n",
       "    <tr>\n",
       "      <th>1</th>\n",
       "      <td>FF</td>\n",
       "      <td>4/28/17</td>\n",
       "      <td>97.1</td>\n",
       "      <td>-2.8091</td>\n",
       "      <td>5.9279</td>\n",
       "      <td>Aaron Judge</td>\n",
       "      <td>592450</td>\n",
       "      <td>592332</td>\n",
       "      <td>home_run</td>\n",
       "      <td>hit_into_play_score</td>\n",
       "      <td>...</td>\n",
       "      <td>2</td>\n",
       "      <td>9</td>\n",
       "      <td>2</td>\n",
       "      <td>9</td>\n",
       "      <td>9</td>\n",
       "      <td>2</td>\n",
       "      <td>2</td>\n",
       "      <td>9</td>\n",
       "      <td>Standard</td>\n",
       "      <td>Standard</td>\n",
       "    </tr>\n",
       "    <tr>\n",
       "      <th>2</th>\n",
       "      <td>CU</td>\n",
       "      <td>6/23/15</td>\n",
       "      <td>86.7</td>\n",
       "      <td>-1.5647</td>\n",
       "      <td>5.3406</td>\n",
       "      <td>Giancarlo Stanton</td>\n",
       "      <td>519317</td>\n",
       "      <td>593372</td>\n",
       "      <td>home_run</td>\n",
       "      <td>hit_into_play_score</td>\n",
       "      <td>...</td>\n",
       "      <td>0</td>\n",
       "      <td>0</td>\n",
       "      <td>0</td>\n",
       "      <td>0</td>\n",
       "      <td>0</td>\n",
       "      <td>0</td>\n",
       "      <td>0</td>\n",
       "      <td>0</td>\n",
       "      <td>Standard</td>\n",
       "      <td>Standard</td>\n",
       "    </tr>\n",
       "    <tr>\n",
       "      <th>3</th>\n",
       "      <td>SL</td>\n",
       "      <td>9/28/17</td>\n",
       "      <td>89.5</td>\n",
       "      <td>2.0682</td>\n",
       "      <td>6.1177</td>\n",
       "      <td>Giancarlo Stanton</td>\n",
       "      <td>519317</td>\n",
       "      <td>571521</td>\n",
       "      <td>home_run</td>\n",
       "      <td>hit_into_play_score</td>\n",
       "      <td>...</td>\n",
       "      <td>5</td>\n",
       "      <td>1</td>\n",
       "      <td>5</td>\n",
       "      <td>1</td>\n",
       "      <td>1</td>\n",
       "      <td>5</td>\n",
       "      <td>5</td>\n",
       "      <td>1</td>\n",
       "      <td>Infield shift</td>\n",
       "      <td>Standard</td>\n",
       "    </tr>\n",
       "    <tr>\n",
       "      <th>4</th>\n",
       "      <td>SL</td>\n",
       "      <td>6/11/17</td>\n",
       "      <td>84.7</td>\n",
       "      <td>-1.9795</td>\n",
       "      <td>5.6860</td>\n",
       "      <td>Aaron Judge</td>\n",
       "      <td>592450</td>\n",
       "      <td>548337</td>\n",
       "      <td>home_run</td>\n",
       "      <td>hit_into_play_score</td>\n",
       "      <td>...</td>\n",
       "      <td>7</td>\n",
       "      <td>3</td>\n",
       "      <td>7</td>\n",
       "      <td>3</td>\n",
       "      <td>3</td>\n",
       "      <td>7</td>\n",
       "      <td>7</td>\n",
       "      <td>3</td>\n",
       "      <td>Infield shift</td>\n",
       "      <td>Standard</td>\n",
       "    </tr>\n",
       "  </tbody>\n",
       "</table>\n",
       "<p>5 rows × 89 columns</p>\n",
       "</div>"
      ],
      "text/plain": [
       "  pitch_type game_date  release_speed  release_pos_x  release_pos_z  \\\n",
       "0         CH   6/10/17           84.5        -3.4020         6.4696   \n",
       "1         FF   4/28/17           97.1        -2.8091         5.9279   \n",
       "2         CU   6/23/15           86.7        -1.5647         5.3406   \n",
       "3         SL   9/28/17           89.5         2.0682         6.1177   \n",
       "4         SL   6/11/17           84.7        -1.9795         5.6860   \n",
       "\n",
       "         player_name  batter  pitcher    events          description  \\\n",
       "0        Aaron Judge  592450   501957  home_run  hit_into_play_score   \n",
       "1        Aaron Judge  592450   592332  home_run  hit_into_play_score   \n",
       "2  Giancarlo Stanton  519317   593372  home_run  hit_into_play_score   \n",
       "3  Giancarlo Stanton  519317   571521  home_run  hit_into_play_score   \n",
       "4        Aaron Judge  592450   548337  home_run  hit_into_play_score   \n",
       "\n",
       "           ...           home_score  away_score  bat_score  fld_score  \\\n",
       "0          ...                    0           0          0          0   \n",
       "1          ...                    2           9          2          9   \n",
       "2          ...                    0           0          0          0   \n",
       "3          ...                    5           1          5          1   \n",
       "4          ...                    7           3          7          3   \n",
       "\n",
       "   post_away_score post_home_score post_bat_score post_fld_score  \\\n",
       "0                0               0              0              0   \n",
       "1                9               2              2              9   \n",
       "2                0               0              0              0   \n",
       "3                1               5              5              1   \n",
       "4                3               7              7              3   \n",
       "\n",
       "  if_fielding_alignment of_fielding_alignment  \n",
       "0         Infield shift              Standard  \n",
       "1              Standard              Standard  \n",
       "2              Standard              Standard  \n",
       "3         Infield shift              Standard  \n",
       "4         Infield shift              Standard  \n",
       "\n",
       "[5 rows x 89 columns]"
      ]
     },
     "execution_count": 4,
     "metadata": {},
     "output_type": "execute_result"
    }
   ],
   "source": [
    "hr_df.head()"
   ]
  },
  {
   "cell_type": "code",
   "execution_count": 5,
   "metadata": {},
   "outputs": [
    {
     "name": "stdout",
     "output_type": "stream",
     "text": [
      "<class 'pandas.core.frame.DataFrame'>\n",
      "RangeIndex: 16626 entries, 0 to 16625\n",
      "Data columns (total 89 columns):\n",
      "pitch_type                         16602 non-null object\n",
      "game_date                          16626 non-null object\n",
      "release_speed                      16611 non-null float64\n",
      "release_pos_x                      16502 non-null float64\n",
      "release_pos_z                      16502 non-null float64\n",
      "player_name                        16626 non-null object\n",
      "batter                             16626 non-null int64\n",
      "pitcher                            16626 non-null int64\n",
      "events                             16626 non-null object\n",
      "description                        16626 non-null object\n",
      "spin_dir                           0 non-null float64\n",
      "spin_rate_deprecated               0 non-null float64\n",
      "break_angle_deprecated             0 non-null float64\n",
      "break_length_deprecated            0 non-null float64\n",
      "zone                               16611 non-null float64\n",
      "des                                16626 non-null object\n",
      "game_type                          16626 non-null object\n",
      "stand                              16626 non-null object\n",
      "p_throws                           16626 non-null object\n",
      "home_team                          16626 non-null object\n",
      "away_team                          16626 non-null object\n",
      "type                               16626 non-null object\n",
      "hit_location                       5 non-null float64\n",
      "bb_type                            16626 non-null object\n",
      "balls                              16626 non-null int64\n",
      "strikes                            16626 non-null int64\n",
      "game_year                          16626 non-null int64\n",
      "pfx_x                              16611 non-null float64\n",
      "pfx_z                              16611 non-null float64\n",
      "plate_x                            16611 non-null float64\n",
      "plate_z                            16611 non-null float64\n",
      "on_3b                              1431 non-null float64\n",
      "on_2b                              2935 non-null float64\n",
      "on_1b                              5005 non-null float64\n",
      "outs_when_up                       16626 non-null int64\n",
      "inning                             16626 non-null int64\n",
      "inning_topbot                      16626 non-null object\n",
      "hc_x                               16571 non-null float64\n",
      "hc_y                               16571 non-null float64\n",
      "tfs_deprecated                     0 non-null float64\n",
      "tfs_zulu_deprecated                0 non-null float64\n",
      "fielder_2                          16513 non-null float64\n",
      "umpire                             0 non-null float64\n",
      "sv_id                              16613 non-null object\n",
      "vx0                                16611 non-null float64\n",
      "vy0                                16611 non-null float64\n",
      "vz0                                16611 non-null float64\n",
      "ax                                 16611 non-null float64\n",
      "ay                                 16611 non-null float64\n",
      "az                                 16611 non-null float64\n",
      "sz_top                             16616 non-null float64\n",
      "sz_bot                             16616 non-null float64\n",
      "hit_distance_sc                    16192 non-null float64\n",
      "launch_speed                       16626 non-null float64\n",
      "launch_angle                       16626 non-null float64\n",
      "effective_speed                    16283 non-null float64\n",
      "release_spin_rate                  15602 non-null float64\n",
      "release_extension                  16308 non-null float64\n",
      "game_pk                            16626 non-null int64\n",
      "pitcher.1                          16626 non-null int64\n",
      "fielder_2.1                        16513 non-null float64\n",
      "fielder_3                          16513 non-null float64\n",
      "fielder_4                          16513 non-null float64\n",
      "fielder_5                          16513 non-null float64\n",
      "fielder_6                          16513 non-null float64\n",
      "fielder_7                          16513 non-null float64\n",
      "fielder_8                          16513 non-null float64\n",
      "fielder_9                          16513 non-null float64\n",
      "release_pos_y                      16502 non-null float64\n",
      "estimated_ba_using_speedangle      16626 non-null float64\n",
      "estimated_woba_using_speedangle    16626 non-null float64\n",
      "woba_value                         16626 non-null int64\n",
      "woba_denom                         16626 non-null int64\n",
      "babip_value                        16626 non-null int64\n",
      "iso_value                          16626 non-null int64\n",
      "launch_speed_angle                 16626 non-null int64\n",
      "at_bat_number                      16626 non-null int64\n",
      "pitch_number                       16626 non-null int64\n",
      "pitch_name                         16602 non-null object\n",
      "home_score                         16626 non-null int64\n",
      "away_score                         16626 non-null int64\n",
      "bat_score                          16626 non-null int64\n",
      "fld_score                          16626 non-null int64\n",
      "post_away_score                    16626 non-null int64\n",
      "post_home_score                    16626 non-null int64\n",
      "post_bat_score                     16626 non-null int64\n",
      "post_fld_score                     16626 non-null int64\n",
      "if_fielding_alignment              16109 non-null object\n",
      "of_fielding_alignment              16109 non-null object\n",
      "dtypes: float64(47), int64(24), object(18)\n",
      "memory usage: 11.3+ MB\n"
     ]
    }
   ],
   "source": [
    "hr_df.info()"
   ]
  },
  {
   "cell_type": "markdown",
   "metadata": {},
   "source": [
    "#### Remove unnecessary features (noise)\n",
    "\n",
    "After a review of all the available features within this dataset the following will be dropped:\n",
    "\n",
    "**NOTE:** An in depth review of each of the columns can be found at basball savant: https://baseballsavant.mlb.com/\n",
    "\n",
    "- Dropped because of lack of data:\n",
    "    - `spin_dir`\n",
    "    - `spin_rate_deprecated`\n",
    "    - `break_angle_deprecated`\n",
    "    - `break_length_deprecated` \n",
    "    - `hit_location`\n",
    "    - `tfs_deprecated`\n",
    "    - `tfs_zulu_deprecated`\n",
    "    - `iso_value`\n",
    "    - `launch_speed_angle`: the values of 1-6 are unbalanced and I cannot find the exact meanings. I already have seperate features for both launch angle and launch speed.\n",
    "- Dropped because of no relation to the actual home run stats (launch speed, launch angle, etc.)\n",
    "    - `on_3b`\n",
    "    - `on_2b`\n",
    "    - `on_1b`\n",
    "    - `umpire`\n",
    "    - `events`\n",
    "    - `description`\n",
    "    - `des`\n",
    "    - `game_type`\n",
    "    - `stand`\n",
    "    - `type`\n",
    "    - `balls`\n",
    "    - `strikes`\n",
    "    - `outs_when_up`\n",
    "    - `inning`\n",
    "    - `inning_topbot`\n",
    "    - `fielder_2`\n",
    "    - `sv_id`\n",
    "    - `pitcher.1`\n",
    "    - `fielder_2.1`\n",
    "    - `fielder_3`\n",
    "    - `fielder_4`\n",
    "    - `fielder_5`\n",
    "    - `fielder_6`\n",
    "    - `fielder_7` \n",
    "    - `fielder_8 `\n",
    "    - `fielder_9`\n",
    "    - `estimated_ba_using_speedangle`\n",
    "    - `estimated_woba_using_speedangle`\n",
    "    - `woba_value`\n",
    "    - `woba_denom` \n",
    "    - `babip_value`\n",
    "    - `at_bat_number`\n",
    "    - `pitch_number `\n",
    "    - `home_score` \n",
    "    - `away_score` \n",
    "    - `bat_score`\n",
    "    - `fld_score`\n",
    "    - `post_away_score`\n",
    "    - `post_home_score`\n",
    "    - `post_bat_score`\n",
    "    - `post_fld_score`\n",
    "    - `if_fielding_alignment `\n",
    "    - `of_fielding_alignment`\n",
    "    - `game_pk`\n",
    "    - `pitch_name` (duplicate to pitch type)\n",
    "    - `home_team`\n",
    "    - `away_team`\n",
    "    - `hc_x : coordinate of where the ball is fielded`\n",
    "    - `hc_y : coordinate of where the ball is fielded`"
   ]
  },
  {
   "cell_type": "code",
   "execution_count": 6,
   "metadata": {},
   "outputs": [],
   "source": [
    "col = [ \n",
    "    'umpire',\n",
    "    'spin_dir',\n",
    "    'spin_rate_deprecated',\n",
    "    'break_angle_deprecated',\n",
    "    'break_length_deprecated',\n",
    "    'events',\n",
    "    'description', \n",
    "    'des',\n",
    "    'game_type', \n",
    "    'stand',\n",
    "    'type', \n",
    "    'hit_location', \n",
    "    'balls', \n",
    "    'strikes', \n",
    "    'on_3b', \n",
    "    'on_2b', \n",
    "    'on_1b', \n",
    "    'outs_when_up',\n",
    "    'inning',\n",
    "    'inning_topbot',\n",
    "    'tfs_deprecated', \n",
    "    'tfs_zulu_deprecated', \n",
    "    'fielder_2', \n",
    "    'sv_id', \n",
    "    'pitcher.1', \n",
    "    'fielder_2.1', \n",
    "    'fielder_3', \n",
    "    'fielder_4', \n",
    "    'fielder_5', \n",
    "    'fielder_6', \n",
    "    'fielder_7', \n",
    "    'fielder_8', \n",
    "    'fielder_9', \n",
    "    'estimated_ba_using_speedangle', \n",
    "    'estimated_woba_using_speedangle', \n",
    "    'woba_value', \n",
    "    'woba_denom', \n",
    "    'babip_value', \n",
    "    'at_bat_number', \n",
    "    'pitch_number', \n",
    "    'home_score', \n",
    "    'away_score', \n",
    "    'bat_score', \n",
    "    'fld_score', \n",
    "    'post_away_score', \n",
    "    'post_home_score', \n",
    "    'post_bat_score', \n",
    "    'post_fld_score', \n",
    "    'if_fielding_alignment', \n",
    "    'of_fielding_alignment',\n",
    "    'iso_value',\n",
    "    'game_pk',\n",
    "    'pitch_name',\n",
    "    'away_team',\n",
    "    'home_team',\n",
    "    'hc_x',\n",
    "    'hc_y',\n",
    "    'launch_speed_angle'\n",
    "]"
   ]
  },
  {
   "cell_type": "code",
   "execution_count": 7,
   "metadata": {},
   "outputs": [],
   "source": [
    "hr_df.drop(col, axis=1, inplace=True)"
   ]
  },
  {
   "cell_type": "markdown",
   "metadata": {},
   "source": [
    "#### Removing nulls\n",
    "\n",
    "One of the features that is a very important aspect to a specific players home run stats is the pitch in which they hit a home run. So, I will be dropping the rows in which have nulls documented within the pitch type that was thrown."
   ]
  },
  {
   "cell_type": "code",
   "execution_count": 8,
   "metadata": {},
   "outputs": [],
   "source": [
    "col=['pitch_type']\n",
    "hr_df.dropna(subset=col, inplace=True)"
   ]
  },
  {
   "cell_type": "markdown",
   "metadata": {},
   "source": [
    "#### Updating datatypes\n",
    "\n",
    "Ensuring specific data types are captured in the correct format"
   ]
  },
  {
   "cell_type": "code",
   "execution_count": 9,
   "metadata": {},
   "outputs": [],
   "source": [
    "hr_df['game_date'] = pd.to_datetime(hr_df['game_date'])"
   ]
  },
  {
   "cell_type": "code",
   "execution_count": 10,
   "metadata": {
    "scrolled": false
   },
   "outputs": [
    {
     "name": "stdout",
     "output_type": "stream",
     "text": [
      "<class 'pandas.core.frame.DataFrame'>\n",
      "Int64Index: 16602 entries, 0 to 16625\n",
      "Data columns (total 31 columns):\n",
      "pitch_type           16602 non-null object\n",
      "game_date            16602 non-null datetime64[ns]\n",
      "release_speed        16600 non-null float64\n",
      "release_pos_x        16491 non-null float64\n",
      "release_pos_z        16491 non-null float64\n",
      "player_name          16602 non-null object\n",
      "batter               16602 non-null int64\n",
      "pitcher              16602 non-null int64\n",
      "zone                 16600 non-null float64\n",
      "p_throws             16602 non-null object\n",
      "bb_type              16602 non-null object\n",
      "game_year            16602 non-null int64\n",
      "pfx_x                16600 non-null float64\n",
      "pfx_z                16600 non-null float64\n",
      "plate_x              16600 non-null float64\n",
      "plate_z              16600 non-null float64\n",
      "vx0                  16600 non-null float64\n",
      "vy0                  16600 non-null float64\n",
      "vz0                  16600 non-null float64\n",
      "ax                   16600 non-null float64\n",
      "ay                   16600 non-null float64\n",
      "az                   16600 non-null float64\n",
      "sz_top               16602 non-null float64\n",
      "sz_bot               16602 non-null float64\n",
      "hit_distance_sc      16182 non-null float64\n",
      "launch_speed         16602 non-null float64\n",
      "launch_angle         16602 non-null float64\n",
      "effective_speed      16272 non-null float64\n",
      "release_spin_rate    15591 non-null float64\n",
      "release_extension    16297 non-null float64\n",
      "release_pos_y        16491 non-null float64\n",
      "dtypes: datetime64[ns](1), float64(23), int64(3), object(4)\n",
      "memory usage: 4.1+ MB\n"
     ]
    }
   ],
   "source": [
    "hr_df.info()"
   ]
  },
  {
   "cell_type": "code",
   "execution_count": 11,
   "metadata": {},
   "outputs": [
    {
     "data": {
      "text/plain": [
       "0"
      ]
     },
     "execution_count": 11,
     "metadata": {},
     "output_type": "execute_result"
    }
   ],
   "source": [
    "hr_df['pitch_type'].isnull().sum()"
   ]
  },
  {
   "cell_type": "markdown",
   "metadata": {},
   "source": [
    "#### Filling in Nulls (Pitch Stats)\n",
    "\n",
    "A lot of the pitching data related to the actual pitch that was thrown is missing. Using a groupby and a function I can fill these values in for the specific pitcher that threw the pitch. \n",
    "\n",
    "Steps to fill in these values:\n",
    "1. Create a dataframe grouped by pitcher and pitch type to get an average for each pitch statistic\n",
    "2. Create a function that will look up this picher by their ID and then look up their average stat from the newly created dataframe to fill in whatever missing values are missing for the specific pitch record\n",
    "3. Apply the newly created function to the pitching features where nulls were identified"
   ]
  },
  {
   "cell_type": "code",
   "execution_count": 12,
   "metadata": {},
   "outputs": [
    {
     "data": {
      "text/plain": [
       "release_speed           2\n",
       "release_pos_x         111\n",
       "release_pos_y         111\n",
       "release_pos_z         111\n",
       "release_spin_rate    1011\n",
       "release_extension     305\n",
       "pfx_x                   2\n",
       "pfx_z                   2\n",
       "plate_x                 2\n",
       "vx0                     2\n",
       "vy0                     2\n",
       "vz0                     2\n",
       "ax                      2\n",
       "ay                      2\n",
       "az                      2\n",
       "effective_speed       330\n",
       "dtype: int64"
      ]
     },
     "execution_count": 12,
     "metadata": {},
     "output_type": "execute_result"
    }
   ],
   "source": [
    "hr_df.isnull().sum()[['release_speed', \n",
    "                      'release_pos_x', \n",
    "                      'release_pos_y',\n",
    "                      'release_pos_z',\n",
    "                      'release_spin_rate',\n",
    "                      'release_extension',\n",
    "                      'pfx_x',\n",
    "                      'pfx_z',\n",
    "                      'plate_x',\n",
    "                      'vx0',\n",
    "                      'vy0',\n",
    "                      'vz0',\n",
    "                      'ax',\n",
    "                      'ay',\n",
    "                      'az',\n",
    "                      'effective_speed']]"
   ]
  },
  {
   "cell_type": "code",
   "execution_count": 14,
   "metadata": {},
   "outputs": [],
   "source": [
    "pitch_avg = hr_df.groupby(['pitcher', 'pitch_type'])[['release_speed', \n",
    "                                                      'release_pos_x', \n",
    "                                                      'release_pos_y',\n",
    "                                                      'release_pos_z',\n",
    "                                                      'release_spin_rate',\n",
    "                                                      'release_extension',\n",
    "                                                      'pfx_x',\n",
    "                                                      'pfx_z',\n",
    "                                                      'plate_x',\n",
    "                                                      'vx0',\n",
    "                                                      'vy0',\n",
    "                                                      'vz0',\n",
    "                                                      'ax',\n",
    "                                                      'ay',\n",
    "                                                      'az',\n",
    "                                                      'effective_speed']].mean()"
   ]
  },
  {
   "cell_type": "code",
   "execution_count": 15,
   "metadata": {
    "scrolled": true
   },
   "outputs": [],
   "source": [
    "pitch_avg.reset_index(inplace=True)"
   ]
  },
  {
   "cell_type": "code",
   "execution_count": 16,
   "metadata": {},
   "outputs": [
    {
     "data": {
      "text/html": [
       "<div>\n",
       "<style scoped>\n",
       "    .dataframe tbody tr th:only-of-type {\n",
       "        vertical-align: middle;\n",
       "    }\n",
       "\n",
       "    .dataframe tbody tr th {\n",
       "        vertical-align: top;\n",
       "    }\n",
       "\n",
       "    .dataframe thead th {\n",
       "        text-align: right;\n",
       "    }\n",
       "</style>\n",
       "<table border=\"1\" class=\"dataframe\">\n",
       "  <thead>\n",
       "    <tr style=\"text-align: right;\">\n",
       "      <th></th>\n",
       "      <th>pitcher</th>\n",
       "      <th>pitch_type</th>\n",
       "      <th>release_speed</th>\n",
       "      <th>release_pos_x</th>\n",
       "      <th>release_pos_y</th>\n",
       "      <th>release_pos_z</th>\n",
       "      <th>release_spin_rate</th>\n",
       "      <th>release_extension</th>\n",
       "      <th>pfx_x</th>\n",
       "      <th>pfx_z</th>\n",
       "      <th>plate_x</th>\n",
       "      <th>vx0</th>\n",
       "      <th>vy0</th>\n",
       "      <th>vz0</th>\n",
       "      <th>ax</th>\n",
       "      <th>ay</th>\n",
       "      <th>az</th>\n",
       "      <th>effective_speed</th>\n",
       "    </tr>\n",
       "  </thead>\n",
       "  <tbody>\n",
       "    <tr>\n",
       "      <th>0</th>\n",
       "      <td>112526</td>\n",
       "      <td>CH</td>\n",
       "      <td>81.540000</td>\n",
       "      <td>-1.391520</td>\n",
       "      <td>55.250980</td>\n",
       "      <td>5.754080</td>\n",
       "      <td>1637.600000</td>\n",
       "      <td>5.249200</td>\n",
       "      <td>-1.142933</td>\n",
       "      <td>0.835700</td>\n",
       "      <td>-0.223840</td>\n",
       "      <td>4.451960</td>\n",
       "      <td>-118.456220</td>\n",
       "      <td>-2.985940</td>\n",
       "      <td>-10.667300</td>\n",
       "      <td>22.154580</td>\n",
       "      <td>-25.151200</td>\n",
       "      <td>79.894600</td>\n",
       "    </tr>\n",
       "    <tr>\n",
       "      <th>1</th>\n",
       "      <td>112526</td>\n",
       "      <td>FF</td>\n",
       "      <td>91.388235</td>\n",
       "      <td>-0.988865</td>\n",
       "      <td>55.251547</td>\n",
       "      <td>5.992818</td>\n",
       "      <td>2276.562500</td>\n",
       "      <td>5.257500</td>\n",
       "      <td>-0.717337</td>\n",
       "      <td>1.424175</td>\n",
       "      <td>-0.022853</td>\n",
       "      <td>3.560453</td>\n",
       "      <td>-132.811671</td>\n",
       "      <td>-4.633582</td>\n",
       "      <td>-8.148265</td>\n",
       "      <td>29.473624</td>\n",
       "      <td>-16.233365</td>\n",
       "      <td>89.426625</td>\n",
       "    </tr>\n",
       "    <tr>\n",
       "      <th>2</th>\n",
       "      <td>112526</td>\n",
       "      <td>FT</td>\n",
       "      <td>87.585106</td>\n",
       "      <td>-1.425957</td>\n",
       "      <td>55.216726</td>\n",
       "      <td>5.713583</td>\n",
       "      <td>2109.446809</td>\n",
       "      <td>5.283426</td>\n",
       "      <td>-1.339216</td>\n",
       "      <td>0.963503</td>\n",
       "      <td>-0.173119</td>\n",
       "      <td>5.304594</td>\n",
       "      <td>-127.276523</td>\n",
       "      <td>-3.549502</td>\n",
       "      <td>-14.556315</td>\n",
       "      <td>26.805947</td>\n",
       "      <td>-22.843936</td>\n",
       "      <td>85.687319</td>\n",
       "    </tr>\n",
       "    <tr>\n",
       "      <th>3</th>\n",
       "      <td>112526</td>\n",
       "      <td>SL</td>\n",
       "      <td>81.700000</td>\n",
       "      <td>-1.545200</td>\n",
       "      <td>55.437425</td>\n",
       "      <td>5.835250</td>\n",
       "      <td>2309.000000</td>\n",
       "      <td>5.061250</td>\n",
       "      <td>0.077197</td>\n",
       "      <td>0.502796</td>\n",
       "      <td>0.172225</td>\n",
       "      <td>3.291075</td>\n",
       "      <td>-118.803012</td>\n",
       "      <td>-1.377837</td>\n",
       "      <td>1.219612</td>\n",
       "      <td>21.471113</td>\n",
       "      <td>-28.542300</td>\n",
       "      <td>79.894375</td>\n",
       "    </tr>\n",
       "    <tr>\n",
       "      <th>4</th>\n",
       "      <td>115629</td>\n",
       "      <td>CH</td>\n",
       "      <td>84.300000</td>\n",
       "      <td>-1.830700</td>\n",
       "      <td>54.319700</td>\n",
       "      <td>6.365500</td>\n",
       "      <td>1669.000000</td>\n",
       "      <td>6.148000</td>\n",
       "      <td>-1.051283</td>\n",
       "      <td>1.365300</td>\n",
       "      <td>-0.379000</td>\n",
       "      <td>4.877000</td>\n",
       "      <td>-122.597000</td>\n",
       "      <td>-4.700000</td>\n",
       "      <td>-10.074000</td>\n",
       "      <td>24.338000</td>\n",
       "      <td>-19.731000</td>\n",
       "      <td>83.946000</td>\n",
       "    </tr>\n",
       "  </tbody>\n",
       "</table>\n",
       "</div>"
      ],
      "text/plain": [
       "   pitcher pitch_type  release_speed  release_pos_x  release_pos_y  \\\n",
       "0   112526         CH      81.540000      -1.391520      55.250980   \n",
       "1   112526         FF      91.388235      -0.988865      55.251547   \n",
       "2   112526         FT      87.585106      -1.425957      55.216726   \n",
       "3   112526         SL      81.700000      -1.545200      55.437425   \n",
       "4   115629         CH      84.300000      -1.830700      54.319700   \n",
       "\n",
       "   release_pos_z  release_spin_rate  release_extension     pfx_x     pfx_z  \\\n",
       "0       5.754080        1637.600000           5.249200 -1.142933  0.835700   \n",
       "1       5.992818        2276.562500           5.257500 -0.717337  1.424175   \n",
       "2       5.713583        2109.446809           5.283426 -1.339216  0.963503   \n",
       "3       5.835250        2309.000000           5.061250  0.077197  0.502796   \n",
       "4       6.365500        1669.000000           6.148000 -1.051283  1.365300   \n",
       "\n",
       "    plate_x       vx0         vy0       vz0         ax         ay         az  \\\n",
       "0 -0.223840  4.451960 -118.456220 -2.985940 -10.667300  22.154580 -25.151200   \n",
       "1 -0.022853  3.560453 -132.811671 -4.633582  -8.148265  29.473624 -16.233365   \n",
       "2 -0.173119  5.304594 -127.276523 -3.549502 -14.556315  26.805947 -22.843936   \n",
       "3  0.172225  3.291075 -118.803012 -1.377837   1.219612  21.471113 -28.542300   \n",
       "4 -0.379000  4.877000 -122.597000 -4.700000 -10.074000  24.338000 -19.731000   \n",
       "\n",
       "   effective_speed  \n",
       "0        79.894600  \n",
       "1        89.426625  \n",
       "2        85.687319  \n",
       "3        79.894375  \n",
       "4        83.946000  "
      ]
     },
     "execution_count": 16,
     "metadata": {},
     "output_type": "execute_result"
    }
   ],
   "source": [
    "pitch_avg.head()"
   ]
  },
  {
   "cell_type": "code",
   "execution_count": 17,
   "metadata": {},
   "outputs": [],
   "source": [
    "def pitcher_avg(pitch, col):\n",
    "    return float(pitch_avg[(pitch_avg['pitcher']==pitch.pitcher) & \n",
    "                           (pitch_avg['pitch_type']==pitch.pitch_type)][col])"
   ]
  },
  {
   "cell_type": "code",
   "execution_count": 18,
   "metadata": {},
   "outputs": [],
   "source": [
    "def pitch_stats_apply(columns):\n",
    "    for col in columns:\n",
    "        hr_df[col] = hr_df.apply(lambda x: pitcher_avg(x, col) if pd.isnull(x[col]) else x[col],1)\n",
    "    return hr_df"
   ]
  },
  {
   "cell_type": "code",
   "execution_count": 19,
   "metadata": {},
   "outputs": [],
   "source": [
    "columns = pitch_avg\n",
    "hr_df = pitch_stats_apply(columns)"
   ]
  },
  {
   "cell_type": "code",
   "execution_count": 21,
   "metadata": {},
   "outputs": [],
   "source": [
    "hr_df['zone'].iloc[9248] = 4"
   ]
  },
  {
   "cell_type": "code",
   "execution_count": 22,
   "metadata": {},
   "outputs": [],
   "source": [
    "hr_df['zone'].iloc[9338] = 4"
   ]
  },
  {
   "cell_type": "code",
   "execution_count": 23,
   "metadata": {},
   "outputs": [
    {
     "name": "stdout",
     "output_type": "stream",
     "text": [
      "<class 'pandas.core.frame.DataFrame'>\n",
      "Int64Index: 16602 entries, 0 to 16625\n",
      "Data columns (total 31 columns):\n",
      "pitch_type           16602 non-null object\n",
      "game_date            16602 non-null datetime64[ns]\n",
      "release_speed        16602 non-null float64\n",
      "release_pos_x        16596 non-null float64\n",
      "release_pos_z        16596 non-null float64\n",
      "player_name          16602 non-null object\n",
      "batter               16602 non-null int64\n",
      "pitcher              16602 non-null int64\n",
      "zone                 16602 non-null float64\n",
      "p_throws             16602 non-null object\n",
      "bb_type              16602 non-null object\n",
      "game_year            16602 non-null int64\n",
      "pfx_x                16602 non-null float64\n",
      "pfx_z                16602 non-null float64\n",
      "plate_x              16602 non-null float64\n",
      "plate_z              16600 non-null float64\n",
      "vx0                  16602 non-null float64\n",
      "vy0                  16602 non-null float64\n",
      "vz0                  16602 non-null float64\n",
      "ax                   16602 non-null float64\n",
      "ay                   16602 non-null float64\n",
      "az                   16602 non-null float64\n",
      "sz_top               16602 non-null float64\n",
      "sz_bot               16602 non-null float64\n",
      "hit_distance_sc      16182 non-null float64\n",
      "launch_speed         16602 non-null float64\n",
      "launch_angle         16602 non-null float64\n",
      "effective_speed      16585 non-null float64\n",
      "release_spin_rate    16475 non-null float64\n",
      "release_extension    16586 non-null float64\n",
      "release_pos_y        16596 non-null float64\n",
      "dtypes: datetime64[ns](1), float64(23), int64(3), object(4)\n",
      "memory usage: 4.1+ MB\n"
     ]
    }
   ],
   "source": [
    "hr_df.info()"
   ]
  },
  {
   "cell_type": "markdown",
   "metadata": {},
   "source": [
    "#### Filling in Nulls (Home Run Hit Stats)\n",
    "\n",
    "With as many nulls as possible now filled in for the missing pitch stats I will now perform the same steps for the missing home run hit stats. \n",
    "\n",
    "Steps to fill in these values:\n",
    "1. Create a dataframe grouped by batter, the pitch type and the batted ball type to get an average for each for the batting statistics that contain nulls\n",
    "2. Create a function that will look up the batter by their ID and then look up their average stat from the newly created dataframe to fill in missing values\n",
    "3. Apply the newly created function to the batter features where nulls were identified"
   ]
  },
  {
   "cell_type": "code",
   "execution_count": 24,
   "metadata": {},
   "outputs": [],
   "source": [
    "batter_stats = hr_df.groupby(['pitch_type', 'batter', 'bb_type']).mean()[['hit_distance_sc']]"
   ]
  },
  {
   "cell_type": "code",
   "execution_count": 25,
   "metadata": {},
   "outputs": [],
   "source": [
    "batter_stats.reset_index(inplace=True)"
   ]
  },
  {
   "cell_type": "code",
   "execution_count": 26,
   "metadata": {},
   "outputs": [
    {
     "data": {
      "text/html": [
       "<div>\n",
       "<style scoped>\n",
       "    .dataframe tbody tr th:only-of-type {\n",
       "        vertical-align: middle;\n",
       "    }\n",
       "\n",
       "    .dataframe tbody tr th {\n",
       "        vertical-align: top;\n",
       "    }\n",
       "\n",
       "    .dataframe thead th {\n",
       "        text-align: right;\n",
       "    }\n",
       "</style>\n",
       "<table border=\"1\" class=\"dataframe\">\n",
       "  <thead>\n",
       "    <tr style=\"text-align: right;\">\n",
       "      <th></th>\n",
       "      <th>pitch_type</th>\n",
       "      <th>batter</th>\n",
       "      <th>bb_type</th>\n",
       "      <th>hit_distance_sc</th>\n",
       "    </tr>\n",
       "  </thead>\n",
       "  <tbody>\n",
       "    <tr>\n",
       "      <th>0</th>\n",
       "      <td>CH</td>\n",
       "      <td>116338</td>\n",
       "      <td>fly_ball</td>\n",
       "      <td>391.666667</td>\n",
       "    </tr>\n",
       "    <tr>\n",
       "      <th>1</th>\n",
       "      <td>CH</td>\n",
       "      <td>120074</td>\n",
       "      <td>fly_ball</td>\n",
       "      <td>379.000000</td>\n",
       "    </tr>\n",
       "    <tr>\n",
       "      <th>2</th>\n",
       "      <td>CH</td>\n",
       "      <td>120074</td>\n",
       "      <td>line_drive</td>\n",
       "      <td>413.666667</td>\n",
       "    </tr>\n",
       "    <tr>\n",
       "      <th>3</th>\n",
       "      <td>CH</td>\n",
       "      <td>121347</td>\n",
       "      <td>fly_ball</td>\n",
       "      <td>385.500000</td>\n",
       "    </tr>\n",
       "    <tr>\n",
       "      <th>4</th>\n",
       "      <td>CH</td>\n",
       "      <td>121347</td>\n",
       "      <td>line_drive</td>\n",
       "      <td>412.000000</td>\n",
       "    </tr>\n",
       "  </tbody>\n",
       "</table>\n",
       "</div>"
      ],
      "text/plain": [
       "  pitch_type  batter     bb_type  hit_distance_sc\n",
       "0         CH  116338    fly_ball       391.666667\n",
       "1         CH  120074    fly_ball       379.000000\n",
       "2         CH  120074  line_drive       413.666667\n",
       "3         CH  121347    fly_ball       385.500000\n",
       "4         CH  121347  line_drive       412.000000"
      ]
     },
     "execution_count": 26,
     "metadata": {},
     "output_type": "execute_result"
    }
   ],
   "source": [
    "batter_stats.head()"
   ]
  },
  {
   "cell_type": "code",
   "execution_count": 27,
   "metadata": {},
   "outputs": [],
   "source": [
    "def batter_avg(pitch, col):\n",
    "    return float(batter_stats[(batter_stats['batter']==pitch.batter) &\n",
    "                              (batter_stats['pitch_type']==pitch.pitch_type) &\n",
    "                              (batter_stats['bb_type']==pitch.bb_type)][col])"
   ]
  },
  {
   "cell_type": "code",
   "execution_count": 28,
   "metadata": {},
   "outputs": [],
   "source": [
    "def batter_stats_apply(columns):\n",
    "    for col in columns:\n",
    "        hr_df[col] = hr_df.apply(lambda x: batter_avg(x, col) \n",
    "                                               if pd.isnull(x[col])\n",
    "                                               else x[col],1)"
   ]
  },
  {
   "cell_type": "code",
   "execution_count": 29,
   "metadata": {},
   "outputs": [],
   "source": [
    "columns = batter_stats\n",
    "batter_stats_apply(columns)"
   ]
  },
  {
   "cell_type": "code",
   "execution_count": 30,
   "metadata": {},
   "outputs": [
    {
     "name": "stdout",
     "output_type": "stream",
     "text": [
      "<class 'pandas.core.frame.DataFrame'>\n",
      "Int64Index: 16602 entries, 0 to 16625\n",
      "Data columns (total 31 columns):\n",
      "pitch_type           16602 non-null object\n",
      "game_date            16602 non-null datetime64[ns]\n",
      "release_speed        16602 non-null float64\n",
      "release_pos_x        16596 non-null float64\n",
      "release_pos_z        16596 non-null float64\n",
      "player_name          16602 non-null object\n",
      "batter               16602 non-null int64\n",
      "pitcher              16602 non-null int64\n",
      "zone                 16602 non-null float64\n",
      "p_throws             16602 non-null object\n",
      "bb_type              16602 non-null object\n",
      "game_year            16602 non-null int64\n",
      "pfx_x                16602 non-null float64\n",
      "pfx_z                16602 non-null float64\n",
      "plate_x              16602 non-null float64\n",
      "plate_z              16600 non-null float64\n",
      "vx0                  16602 non-null float64\n",
      "vy0                  16602 non-null float64\n",
      "vz0                  16602 non-null float64\n",
      "ax                   16602 non-null float64\n",
      "ay                   16602 non-null float64\n",
      "az                   16602 non-null float64\n",
      "sz_top               16602 non-null float64\n",
      "sz_bot               16602 non-null float64\n",
      "hit_distance_sc      16514 non-null float64\n",
      "launch_speed         16602 non-null float64\n",
      "launch_angle         16602 non-null float64\n",
      "effective_speed      16585 non-null float64\n",
      "release_spin_rate    16475 non-null float64\n",
      "release_extension    16586 non-null float64\n",
      "release_pos_y        16596 non-null float64\n",
      "dtypes: datetime64[ns](1), float64(23), int64(3), object(4)\n",
      "memory usage: 4.1+ MB\n"
     ]
    }
   ],
   "source": [
    "hr_df.info()"
   ]
  },
  {
   "cell_type": "markdown",
   "metadata": {},
   "source": [
    "#### Final missing value fill\n",
    "\n",
    "I have now filled in as many nulls as possible within the dataset and will now drop all remaining null values"
   ]
  },
  {
   "cell_type": "code",
   "execution_count": 31,
   "metadata": {},
   "outputs": [],
   "source": [
    "hr_df.dropna(inplace=True)"
   ]
  },
  {
   "cell_type": "code",
   "execution_count": 32,
   "metadata": {},
   "outputs": [
    {
     "data": {
      "text/plain": [
       "16388"
      ]
     },
     "execution_count": 32,
     "metadata": {},
     "output_type": "execute_result"
    }
   ],
   "source": [
    "len(hr_df)"
   ]
  },
  {
   "cell_type": "markdown",
   "metadata": {},
   "source": [
    "### Save the Data"
   ]
  },
  {
   "cell_type": "code",
   "execution_count": 33,
   "metadata": {},
   "outputs": [],
   "source": [
    "hr_df.to_csv('../data/final_clean_hr.csv')"
   ]
  },
  {
   "cell_type": "markdown",
   "metadata": {},
   "source": [
    "### Baseball Data\n",
    "\n",
    "Next, I will review and clean the sampled baseballs from the 2015, 2016 and 2017 MLB seasons"
   ]
  },
  {
   "cell_type": "code",
   "execution_count": 34,
   "metadata": {},
   "outputs": [],
   "source": [
    "baseballs_df.columns = [i.lower().replace(' ', '_') for i in baseballs_df.columns]"
   ]
  },
  {
   "cell_type": "code",
   "execution_count": 35,
   "metadata": {},
   "outputs": [
    {
     "data": {
      "text/html": [
       "<div>\n",
       "<style scoped>\n",
       "    .dataframe tbody tr th:only-of-type {\n",
       "        vertical-align: middle;\n",
       "    }\n",
       "\n",
       "    .dataframe tbody tr th {\n",
       "        vertical-align: top;\n",
       "    }\n",
       "\n",
       "    .dataframe thead th {\n",
       "        text-align: right;\n",
       "    }\n",
       "</style>\n",
       "<table border=\"1\" class=\"dataframe\">\n",
       "  <thead>\n",
       "    <tr style=\"text-align: right;\">\n",
       "      <th></th>\n",
       "      <th>ball_code</th>\n",
       "      <th>year</th>\n",
       "      <th>sn</th>\n",
       "      <th>weight_(oz)</th>\n",
       "      <th>circumference_(in)</th>\n",
       "      <th>avg_seam_height</th>\n",
       "      <th>std_of_seam_height</th>\n",
       "      <th>avg_ccor</th>\n",
       "      <th>avg_ds</th>\n",
       "      <th>#_of_good_shots_before_damage</th>\n",
       "    </tr>\n",
       "  </thead>\n",
       "  <tbody>\n",
       "    <tr>\n",
       "      <th>0</th>\n",
       "      <td>MSCC0051</td>\n",
       "      <td>2014-05-15</td>\n",
       "      <td>731</td>\n",
       "      <td>5.135</td>\n",
       "      <td>9.13</td>\n",
       "      <td>0.03587</td>\n",
       "      <td>0.01049</td>\n",
       "      <td>0.491</td>\n",
       "      <td>12133</td>\n",
       "      <td>NaN</td>\n",
       "    </tr>\n",
       "    <tr>\n",
       "      <th>1</th>\n",
       "      <td>MSCC0032</td>\n",
       "      <td>2014-07-15</td>\n",
       "      <td>228</td>\n",
       "      <td>5.149</td>\n",
       "      <td>9.09</td>\n",
       "      <td>0.04403</td>\n",
       "      <td>0.01781</td>\n",
       "      <td>0.489</td>\n",
       "      <td>12468</td>\n",
       "      <td>NaN</td>\n",
       "    </tr>\n",
       "    <tr>\n",
       "      <th>2</th>\n",
       "      <td>MSCC0030</td>\n",
       "      <td>2015-04-15</td>\n",
       "      <td>196</td>\n",
       "      <td>5.143</td>\n",
       "      <td>9.06</td>\n",
       "      <td>0.03726</td>\n",
       "      <td>0.00640</td>\n",
       "      <td>0.489</td>\n",
       "      <td>12518</td>\n",
       "      <td>NaN</td>\n",
       "    </tr>\n",
       "    <tr>\n",
       "      <th>3</th>\n",
       "      <td>MSCC0045</td>\n",
       "      <td>2015-04-15</td>\n",
       "      <td>351</td>\n",
       "      <td>5.109</td>\n",
       "      <td>9.09</td>\n",
       "      <td>0.04574</td>\n",
       "      <td>0.01216</td>\n",
       "      <td>0.496</td>\n",
       "      <td>13442</td>\n",
       "      <td>NaN</td>\n",
       "    </tr>\n",
       "    <tr>\n",
       "      <th>4</th>\n",
       "      <td>MSCC0048</td>\n",
       "      <td>2015-04-15</td>\n",
       "      <td>499</td>\n",
       "      <td>5.192</td>\n",
       "      <td>9.19</td>\n",
       "      <td>0.04862</td>\n",
       "      <td>0.00828</td>\n",
       "      <td>0.474</td>\n",
       "      <td>12394</td>\n",
       "      <td>5.0</td>\n",
       "    </tr>\n",
       "  </tbody>\n",
       "</table>\n",
       "</div>"
      ],
      "text/plain": [
       "  ball_code       year   sn  weight_(oz)  circumference_(in)  avg_seam_height  \\\n",
       "0  MSCC0051 2014-05-15  731        5.135                9.13          0.03587   \n",
       "1  MSCC0032 2014-07-15  228        5.149                9.09          0.04403   \n",
       "2  MSCC0030 2015-04-15  196        5.143                9.06          0.03726   \n",
       "3  MSCC0045 2015-04-15  351        5.109                9.09          0.04574   \n",
       "4  MSCC0048 2015-04-15  499        5.192                9.19          0.04862   \n",
       "\n",
       "   std_of_seam_height  avg_ccor  avg_ds  #_of_good_shots_before_damage  \n",
       "0             0.01049     0.491   12133                            NaN  \n",
       "1             0.01781     0.489   12468                            NaN  \n",
       "2             0.00640     0.489   12518                            NaN  \n",
       "3             0.01216     0.496   13442                            NaN  \n",
       "4             0.00828     0.474   12394                            5.0  "
      ]
     },
     "execution_count": 35,
     "metadata": {},
     "output_type": "execute_result"
    }
   ],
   "source": [
    "baseballs_df.head()"
   ]
  },
  {
   "cell_type": "markdown",
   "metadata": {},
   "source": [
    "#### Dropping unnecessary features (noise)\n",
    "- Dropping because of their irrelevance to home run statistics\n",
    "    - ball code\n",
    "    - sn\n",
    "- Dropping because of their lack of data\n",
    "    - #_of_good_shots_before_damage"
   ]
  },
  {
   "cell_type": "code",
   "execution_count": 36,
   "metadata": {},
   "outputs": [],
   "source": [
    "col = [\n",
    "    'ball_code',\n",
    "    '#_of_good_shots_before_damage',\n",
    "    'sn'\n",
    "]\n",
    "\n",
    "baseballs_df.drop(col, axis=1, inplace=True)"
   ]
  },
  {
   "cell_type": "code",
   "execution_count": 37,
   "metadata": {},
   "outputs": [
    {
     "name": "stdout",
     "output_type": "stream",
     "text": [
      "<class 'pandas.core.frame.DataFrame'>\n",
      "RangeIndex: 36 entries, 0 to 35\n",
      "Data columns (total 7 columns):\n",
      "year                  36 non-null datetime64[ns]\n",
      "weight_(oz)           36 non-null float64\n",
      "circumference_(in)    36 non-null float64\n",
      "avg_seam_height       36 non-null float64\n",
      "std_of_seam_height    36 non-null float64\n",
      "avg_ccor              36 non-null float64\n",
      "avg_ds                36 non-null int64\n",
      "dtypes: datetime64[ns](1), float64(5), int64(1)\n",
      "memory usage: 2.0 KB\n"
     ]
    }
   ],
   "source": [
    "baseballs_df.info()"
   ]
  },
  {
   "cell_type": "markdown",
   "metadata": {},
   "source": [
    "#### Updating datatypes \n",
    "\n",
    "Updating fetures to their correct data types and updating the index for this dataframe to datetime for efficiency"
   ]
  },
  {
   "cell_type": "code",
   "execution_count": 38,
   "metadata": {},
   "outputs": [],
   "source": [
    "baseballs_df['year'] = pd.to_datetime(baseballs_df['year'])"
   ]
  },
  {
   "cell_type": "code",
   "execution_count": 39,
   "metadata": {},
   "outputs": [],
   "source": [
    "baseballs_df.set_index('year', inplace=True)"
   ]
  },
  {
   "cell_type": "code",
   "execution_count": 40,
   "metadata": {},
   "outputs": [
    {
     "data": {
      "text/html": [
       "<div>\n",
       "<style scoped>\n",
       "    .dataframe tbody tr th:only-of-type {\n",
       "        vertical-align: middle;\n",
       "    }\n",
       "\n",
       "    .dataframe tbody tr th {\n",
       "        vertical-align: top;\n",
       "    }\n",
       "\n",
       "    .dataframe thead th {\n",
       "        text-align: right;\n",
       "    }\n",
       "</style>\n",
       "<table border=\"1\" class=\"dataframe\">\n",
       "  <thead>\n",
       "    <tr style=\"text-align: right;\">\n",
       "      <th></th>\n",
       "      <th>weight_(oz)</th>\n",
       "      <th>circumference_(in)</th>\n",
       "      <th>avg_seam_height</th>\n",
       "      <th>std_of_seam_height</th>\n",
       "      <th>avg_ccor</th>\n",
       "      <th>avg_ds</th>\n",
       "    </tr>\n",
       "    <tr>\n",
       "      <th>year</th>\n",
       "      <th></th>\n",
       "      <th></th>\n",
       "      <th></th>\n",
       "      <th></th>\n",
       "      <th></th>\n",
       "      <th></th>\n",
       "    </tr>\n",
       "  </thead>\n",
       "  <tbody>\n",
       "    <tr>\n",
       "      <th>2014-05-15</th>\n",
       "      <td>5.135</td>\n",
       "      <td>9.13</td>\n",
       "      <td>0.03587</td>\n",
       "      <td>0.01049</td>\n",
       "      <td>0.491</td>\n",
       "      <td>12133</td>\n",
       "    </tr>\n",
       "    <tr>\n",
       "      <th>2014-07-15</th>\n",
       "      <td>5.149</td>\n",
       "      <td>9.09</td>\n",
       "      <td>0.04403</td>\n",
       "      <td>0.01781</td>\n",
       "      <td>0.489</td>\n",
       "      <td>12468</td>\n",
       "    </tr>\n",
       "    <tr>\n",
       "      <th>2015-04-15</th>\n",
       "      <td>5.143</td>\n",
       "      <td>9.06</td>\n",
       "      <td>0.03726</td>\n",
       "      <td>0.00640</td>\n",
       "      <td>0.489</td>\n",
       "      <td>12518</td>\n",
       "    </tr>\n",
       "    <tr>\n",
       "      <th>2015-04-15</th>\n",
       "      <td>5.109</td>\n",
       "      <td>9.09</td>\n",
       "      <td>0.04574</td>\n",
       "      <td>0.01216</td>\n",
       "      <td>0.496</td>\n",
       "      <td>13442</td>\n",
       "    </tr>\n",
       "    <tr>\n",
       "      <th>2015-04-15</th>\n",
       "      <td>5.192</td>\n",
       "      <td>9.19</td>\n",
       "      <td>0.04862</td>\n",
       "      <td>0.00828</td>\n",
       "      <td>0.474</td>\n",
       "      <td>12394</td>\n",
       "    </tr>\n",
       "  </tbody>\n",
       "</table>\n",
       "</div>"
      ],
      "text/plain": [
       "            weight_(oz)  circumference_(in)  avg_seam_height  \\\n",
       "year                                                           \n",
       "2014-05-15        5.135                9.13          0.03587   \n",
       "2014-07-15        5.149                9.09          0.04403   \n",
       "2015-04-15        5.143                9.06          0.03726   \n",
       "2015-04-15        5.109                9.09          0.04574   \n",
       "2015-04-15        5.192                9.19          0.04862   \n",
       "\n",
       "            std_of_seam_height  avg_ccor  avg_ds  \n",
       "year                                              \n",
       "2014-05-15             0.01049     0.491   12133  \n",
       "2014-07-15             0.01781     0.489   12468  \n",
       "2015-04-15             0.00640     0.489   12518  \n",
       "2015-04-15             0.01216     0.496   13442  \n",
       "2015-04-15             0.00828     0.474   12394  "
      ]
     },
     "execution_count": 40,
     "metadata": {},
     "output_type": "execute_result"
    }
   ],
   "source": [
    "baseballs_df.head()"
   ]
  },
  {
   "cell_type": "markdown",
   "metadata": {},
   "source": [
    "#### Creating a final average of the baseballs to use for each MLB season\n",
    "\n",
    "- 2015\n",
    "    - Get the average of each statistic from the 2015 season and create as a dataframe\n",
    "- 2016\n",
    "    - Get the average of each statistic from the 2016 season and create as a dataframe\n",
    "- 2017\n",
    "    - It was extremely difficult to find the data for the baseballs from the 2017 season. Using a couple of articles online I was able to construct some averages for 2017\n",
    "        - Sources: \n",
    "            - https://www.theringer.com/2017/6/14/16044264/2017-mlb-home-run-spike-juiced-ball-testing-reveal-155cd21108bc \n",
    "            - https://fivethirtyeight.com/features/juiced-baseballs/"
   ]
  },
  {
   "cell_type": "code",
   "execution_count": 41,
   "metadata": {},
   "outputs": [
    {
     "data": {
      "text/html": [
       "<div>\n",
       "<style scoped>\n",
       "    .dataframe tbody tr th:only-of-type {\n",
       "        vertical-align: middle;\n",
       "    }\n",
       "\n",
       "    .dataframe tbody tr th {\n",
       "        vertical-align: top;\n",
       "    }\n",
       "\n",
       "    .dataframe thead th {\n",
       "        text-align: right;\n",
       "    }\n",
       "</style>\n",
       "<table border=\"1\" class=\"dataframe\">\n",
       "  <thead>\n",
       "    <tr style=\"text-align: right;\">\n",
       "      <th></th>\n",
       "      <th>weight_(oz)</th>\n",
       "      <th>circumference_(in)</th>\n",
       "      <th>avg_seam_height</th>\n",
       "      <th>std_of_seam_height</th>\n",
       "      <th>avg_ccor</th>\n",
       "      <th>avg_ds</th>\n",
       "      <th>year</th>\n",
       "    </tr>\n",
       "  </thead>\n",
       "  <tbody>\n",
       "    <tr>\n",
       "      <th>0</th>\n",
       "      <td>5.120125</td>\n",
       "      <td>9.107917</td>\n",
       "      <td>0.040502</td>\n",
       "      <td>0.011194</td>\n",
       "      <td>0.491333</td>\n",
       "      <td>12740.875</td>\n",
       "      <td>2015</td>\n",
       "    </tr>\n",
       "  </tbody>\n",
       "</table>\n",
       "</div>"
      ],
      "text/plain": [
       "   weight_(oz)  circumference_(in)  avg_seam_height  std_of_seam_height  \\\n",
       "0     5.120125            9.107917         0.040502            0.011194   \n",
       "\n",
       "   avg_ccor     avg_ds  year  \n",
       "0  0.491333  12740.875  2015  "
      ]
     },
     "execution_count": 41,
     "metadata": {},
     "output_type": "execute_result"
    }
   ],
   "source": [
    "bb_15 = baseballs_df['2015'][['weight_(oz)',\n",
    "                      'circumference_(in)',\n",
    "                      'avg_seam_height',\n",
    "                      'std_of_seam_height',\n",
    "                      'avg_ccor',\n",
    "                      'avg_ds']].mean().to_frame().T\n",
    "bb_15['year'] = 2015\n",
    "bb_15"
   ]
  },
  {
   "cell_type": "code",
   "execution_count": 42,
   "metadata": {},
   "outputs": [
    {
     "data": {
      "text/html": [
       "<div>\n",
       "<style scoped>\n",
       "    .dataframe tbody tr th:only-of-type {\n",
       "        vertical-align: middle;\n",
       "    }\n",
       "\n",
       "    .dataframe tbody tr th {\n",
       "        vertical-align: top;\n",
       "    }\n",
       "\n",
       "    .dataframe thead th {\n",
       "        text-align: right;\n",
       "    }\n",
       "</style>\n",
       "<table border=\"1\" class=\"dataframe\">\n",
       "  <thead>\n",
       "    <tr style=\"text-align: right;\">\n",
       "      <th></th>\n",
       "      <th>weight_(oz)</th>\n",
       "      <th>circumference_(in)</th>\n",
       "      <th>avg_seam_height</th>\n",
       "      <th>std_of_seam_height</th>\n",
       "      <th>avg_ccor</th>\n",
       "      <th>avg_ds</th>\n",
       "      <th>year</th>\n",
       "    </tr>\n",
       "  </thead>\n",
       "  <tbody>\n",
       "    <tr>\n",
       "      <th>0</th>\n",
       "      <td>5.1225</td>\n",
       "      <td>9.079</td>\n",
       "      <td>0.038432</td>\n",
       "      <td>0.010468</td>\n",
       "      <td>0.4941</td>\n",
       "      <td>12926.4</td>\n",
       "      <td>2016</td>\n",
       "    </tr>\n",
       "  </tbody>\n",
       "</table>\n",
       "</div>"
      ],
      "text/plain": [
       "   weight_(oz)  circumference_(in)  avg_seam_height  std_of_seam_height  \\\n",
       "0       5.1225               9.079         0.038432            0.010468   \n",
       "\n",
       "   avg_ccor   avg_ds  year  \n",
       "0    0.4941  12926.4  2016  "
      ]
     },
     "execution_count": 42,
     "metadata": {},
     "output_type": "execute_result"
    }
   ],
   "source": [
    "bb_16 = baseballs_df['2016'][['weight_(oz)',\n",
    "                      'circumference_(in)',\n",
    "                      'avg_seam_height',\n",
    "                      'std_of_seam_height',\n",
    "                      'avg_ccor',\n",
    "                      'avg_ds']].mean().to_frame().T\n",
    "bb_16['year'] = 2016\n",
    "bb_16"
   ]
  },
  {
   "cell_type": "code",
   "execution_count": 43,
   "metadata": {},
   "outputs": [
    {
     "data": {
      "text/html": [
       "<div>\n",
       "<style scoped>\n",
       "    .dataframe tbody tr th:only-of-type {\n",
       "        vertical-align: middle;\n",
       "    }\n",
       "\n",
       "    .dataframe tbody tr th {\n",
       "        vertical-align: top;\n",
       "    }\n",
       "\n",
       "    .dataframe thead th {\n",
       "        text-align: right;\n",
       "    }\n",
       "</style>\n",
       "<table border=\"1\" class=\"dataframe\">\n",
       "  <thead>\n",
       "    <tr style=\"text-align: right;\">\n",
       "      <th></th>\n",
       "      <th>weight_(oz)</th>\n",
       "      <th>circumference_(in)</th>\n",
       "      <th>avg_seam_height</th>\n",
       "      <th>avg_ccor</th>\n",
       "      <th>avg_ds</th>\n",
       "      <th>year</th>\n",
       "    </tr>\n",
       "  </thead>\n",
       "  <tbody>\n",
       "    <tr>\n",
       "      <th>0</th>\n",
       "      <td>5.120125</td>\n",
       "      <td>9.107917</td>\n",
       "      <td>0.040502</td>\n",
       "      <td>0.491333</td>\n",
       "      <td>12740.875</td>\n",
       "      <td>2015</td>\n",
       "    </tr>\n",
       "    <tr>\n",
       "      <th>1</th>\n",
       "      <td>5.122500</td>\n",
       "      <td>9.079000</td>\n",
       "      <td>0.038432</td>\n",
       "      <td>0.494100</td>\n",
       "      <td>12926.400</td>\n",
       "      <td>2016</td>\n",
       "    </tr>\n",
       "  </tbody>\n",
       "</table>\n",
       "</div>"
      ],
      "text/plain": [
       "   weight_(oz)  circumference_(in)  avg_seam_height  avg_ccor     avg_ds  year\n",
       "0     5.120125            9.107917         0.040502  0.491333  12740.875  2015\n",
       "1     5.122500            9.079000         0.038432  0.494100  12926.400  2016"
      ]
     },
     "execution_count": 43,
     "metadata": {},
     "output_type": "execute_result"
    }
   ],
   "source": [
    "mlb_baseballs = bb_15.append(bb_16).reset_index()\n",
    "mlb_baseballs.drop('index', axis=1, inplace=True)\n",
    "mlb_baseballs.drop('std_of_seam_height', axis=1, inplace=True)\n",
    "mlb_baseballs"
   ]
  },
  {
   "cell_type": "markdown",
   "metadata": {},
   "source": [
    "#### The 2017 baseballs\n",
    "\n",
    "The largest point of emphasis that was examined within the baseballs was the weight and ccor (cylindrical coefficient of restitution). Because these are the main data points I will focus on updating these values for the 2017 baseballs.\n",
    "\n",
    "\"The newer cores weigh about a half a gram less than the older ones, which might be enough to cause baseballs hit on a typical home run trajectory to fly about 6 inches farther.\" -FiveThirtyEight\n",
    "\n",
    "- Weight\n",
    "        - 5.12250 - 0.017637 (.5 grams converted to ouces) = 5.104863\n",
    "- Avg ccor (Ccylindrical coefficient of restitution) \"The bounciness of the baseball aka \"The Pill\"\"\n",
    "        - 0.494100 - 0.017637 (.5 grams converted to ouces) = .476463"
   ]
  },
  {
   "cell_type": "code",
   "execution_count": 44,
   "metadata": {},
   "outputs": [
    {
     "data": {
      "text/html": [
       "<div>\n",
       "<style scoped>\n",
       "    .dataframe tbody tr th:only-of-type {\n",
       "        vertical-align: middle;\n",
       "    }\n",
       "\n",
       "    .dataframe tbody tr th {\n",
       "        vertical-align: top;\n",
       "    }\n",
       "\n",
       "    .dataframe thead th {\n",
       "        text-align: right;\n",
       "    }\n",
       "</style>\n",
       "<table border=\"1\" class=\"dataframe\">\n",
       "  <thead>\n",
       "    <tr style=\"text-align: right;\">\n",
       "      <th></th>\n",
       "      <th>avg_ccor</th>\n",
       "      <th>avg_seam_height</th>\n",
       "      <th>circumference_(in)</th>\n",
       "      <th>weight_(oz)</th>\n",
       "      <th>avg_ds</th>\n",
       "      <th>year</th>\n",
       "    </tr>\n",
       "  </thead>\n",
       "  <tbody>\n",
       "    <tr>\n",
       "      <th>0</th>\n",
       "      <td>0.476463</td>\n",
       "      <td>0.038</td>\n",
       "      <td>9.08</td>\n",
       "      <td>5.104863</td>\n",
       "      <td>12926</td>\n",
       "      <td>2017</td>\n",
       "    </tr>\n",
       "  </tbody>\n",
       "</table>\n",
       "</div>"
      ],
      "text/plain": [
       "   avg_ccor  avg_seam_height  circumference_(in)  weight_(oz)  avg_ds  year\n",
       "0  0.476463            0.038                9.08     5.104863   12926  2017"
      ]
     },
     "execution_count": 44,
     "metadata": {},
     "output_type": "execute_result"
    }
   ],
   "source": [
    "bb_17 = pd.DataFrame(\n",
    "    [[.476463,.038,9.08,5.104863,12926,2017]], columns=['avg_ccor', \n",
    "                                                   'avg_seam_height',\n",
    "                                                   'circumference_(in)',\n",
    "                                                   'weight_(oz)',\n",
    "                                                   'avg_ds',\n",
    "                                                   'year']\n",
    ")\n",
    "bb_17"
   ]
  },
  {
   "cell_type": "code",
   "execution_count": 45,
   "metadata": {},
   "outputs": [],
   "source": [
    "mlb_baseballs = mlb_baseballs.append(bb_17, sort=False).reset_index().drop('index', axis=1)"
   ]
  },
  {
   "cell_type": "code",
   "execution_count": 46,
   "metadata": {
    "scrolled": true
   },
   "outputs": [
    {
     "data": {
      "text/html": [
       "<div>\n",
       "<style scoped>\n",
       "    .dataframe tbody tr th:only-of-type {\n",
       "        vertical-align: middle;\n",
       "    }\n",
       "\n",
       "    .dataframe tbody tr th {\n",
       "        vertical-align: top;\n",
       "    }\n",
       "\n",
       "    .dataframe thead th {\n",
       "        text-align: right;\n",
       "    }\n",
       "</style>\n",
       "<table border=\"1\" class=\"dataframe\">\n",
       "  <thead>\n",
       "    <tr style=\"text-align: right;\">\n",
       "      <th></th>\n",
       "      <th>weight_(oz)</th>\n",
       "      <th>circumference_(in)</th>\n",
       "      <th>avg_seam_height</th>\n",
       "      <th>avg_ccor</th>\n",
       "      <th>avg_ds</th>\n",
       "      <th>year</th>\n",
       "    </tr>\n",
       "  </thead>\n",
       "  <tbody>\n",
       "    <tr>\n",
       "      <th>0</th>\n",
       "      <td>5.120125</td>\n",
       "      <td>9.107917</td>\n",
       "      <td>0.040502</td>\n",
       "      <td>0.491333</td>\n",
       "      <td>12740.875</td>\n",
       "      <td>2015</td>\n",
       "    </tr>\n",
       "    <tr>\n",
       "      <th>1</th>\n",
       "      <td>5.122500</td>\n",
       "      <td>9.079000</td>\n",
       "      <td>0.038432</td>\n",
       "      <td>0.494100</td>\n",
       "      <td>12926.400</td>\n",
       "      <td>2016</td>\n",
       "    </tr>\n",
       "    <tr>\n",
       "      <th>2</th>\n",
       "      <td>5.104863</td>\n",
       "      <td>9.080000</td>\n",
       "      <td>0.038000</td>\n",
       "      <td>0.476463</td>\n",
       "      <td>12926.000</td>\n",
       "      <td>2017</td>\n",
       "    </tr>\n",
       "  </tbody>\n",
       "</table>\n",
       "</div>"
      ],
      "text/plain": [
       "   weight_(oz)  circumference_(in)  avg_seam_height  avg_ccor     avg_ds  year\n",
       "0     5.120125            9.107917         0.040502  0.491333  12740.875  2015\n",
       "1     5.122500            9.079000         0.038432  0.494100  12926.400  2016\n",
       "2     5.104863            9.080000         0.038000  0.476463  12926.000  2017"
      ]
     },
     "execution_count": 46,
     "metadata": {},
     "output_type": "execute_result"
    }
   ],
   "source": [
    "mlb_baseballs"
   ]
  },
  {
   "cell_type": "markdown",
   "metadata": {},
   "source": [
    "### Save the Data"
   ]
  },
  {
   "cell_type": "code",
   "execution_count": 47,
   "metadata": {},
   "outputs": [],
   "source": [
    "mlb_baseballs.to_csv('../data/final_mlb_baseballs.csv')"
   ]
  },
  {
   "cell_type": "markdown",
   "metadata": {},
   "source": [
    "### Player Personal Stats\n",
    "\n",
    "Finally, I want to include each batters personal stats to draw a conclusion about whether or not a players size and weight are contributing to their home runs exit velocities."
   ]
  },
  {
   "cell_type": "markdown",
   "metadata": {},
   "source": [
    "#### Webscapre Baseball Savant\n",
    "\n",
    "In order to scrape a website an appropriate status code must be received. Using a player at random I will send a request to the website to ensure a successful connection.\n",
    "- I want to receive a status code of 200"
   ]
  },
  {
   "cell_type": "code",
   "execution_count": 67,
   "metadata": {},
   "outputs": [],
   "source": [
    "url = \"https://baseballsavant.mlb.com/savant-player/j-d-martinez-502110?stats=career-r-hitting-mlb\"\n",
    "res =  requests.get(url)"
   ]
  },
  {
   "cell_type": "code",
   "execution_count": 68,
   "metadata": {},
   "outputs": [
    {
     "name": "stdout",
     "output_type": "stream",
     "text": [
      "Successfull status code received : 200\n"
     ]
    }
   ],
   "source": [
    "if res.status_code == 200:\n",
    "    print(f'Successfull status code received : {res.status_code}')"
   ]
  },
  {
   "cell_type": "markdown",
   "metadata": {},
   "source": [
    "#### The webscrape\n",
    "\n",
    "Lets ensure we know how many unique players we'll need to scrape. \n",
    "\n",
    "There are 751 players that have hit homes runs since 2015. I will scrape each of these players personal stats:\n",
    "- Height\n",
    "- Weight\n",
    "- Age"
   ]
  },
  {
   "cell_type": "code",
   "execution_count": 50,
   "metadata": {
    "scrolled": true
   },
   "outputs": [],
   "source": [
    "batter_id = hr_df['batter'].unique()"
   ]
  },
  {
   "cell_type": "code",
   "execution_count": 51,
   "metadata": {},
   "outputs": [
    {
     "data": {
      "text/plain": [
       "751"
      ]
     },
     "execution_count": 51,
     "metadata": {},
     "output_type": "execute_result"
    }
   ],
   "source": [
    "len(batter_id)"
   ]
  },
  {
   "cell_type": "markdown",
   "metadata": {},
   "source": [
    "#### Running the scrape\n",
    "\n",
    "Using Pythons Beautiful Soup Library I will run a loop through each players personal page on the Baseball Savant site and obtain their speicific personal stats."
   ]
  },
  {
   "cell_type": "code",
   "execution_count": 52,
   "metadata": {},
   "outputs": [],
   "source": [
    "def get_batters_info(batter_id):\n",
    "    attrs = {\n",
    "        'batter_id': [str(x) for x in batter_id],\n",
    "        'height':[],\n",
    "        'weight':[],\n",
    "        'age':[],\n",
    "        'position':[],\n",
    "        'bats':[],\n",
    "        'throws':[]\n",
    "    }\n",
    "\n",
    "    attr_names = [\n",
    "        'height',\n",
    "        'weight',\n",
    "        'age',\n",
    "        'position',\n",
    "        'bats',\n",
    "        'throws'\n",
    "    ]\n",
    "\n",
    "    for idx, b in enumerate(batter_id):\n",
    "        url = \"https://baseballsavant.mlb.com/savant-player/{}?stats=career-r-hitting-mlb\".format(b)\n",
    "        res =  requests.get(url)\n",
    "        soup = BeautifulSoup(res.content, 'lxml')\n",
    "        for col_name, attribute in zip(attr_names, soup.find_all('div', {'class':'box-text'})):\n",
    "            attrs[col_name].append(str(attribute.text))\n",
    "        if idx % 50 == 0:\n",
    "            with open('../data/baseball_player7.json', 'w') as f:\n",
    "                json.dump(attrs, f)\n",
    "        time.sleep(2)\n",
    "    \n",
    "    with open('../data/baseball_player7.json', 'w') as f:\n",
    "        json.dump(attrs, f)\n",
    "    \n",
    "    return attrs"
   ]
  },
  {
   "cell_type": "markdown",
   "metadata": {},
   "source": [
    "#### Webscrape results\n",
    "\n",
    "The below line of code has been commented out so that I do not run unintentionally and overwrite my already scaped json data. These are the results of the web scrape. I saved the results previously so will load the data in again for use."
   ]
  },
  {
   "cell_type": "code",
   "execution_count": 78,
   "metadata": {},
   "outputs": [],
   "source": [
    "# player_info_df = get_batters_info(batter_id)"
   ]
  },
  {
   "cell_type": "markdown",
   "metadata": {},
   "source": [
    "#### Save Final Scape (json)\n",
    "\n",
    "The below lines are also commented out so that I do not save over my scrape with any of the changes I will make to the dataframe."
   ]
  },
  {
   "cell_type": "code",
   "execution_count": null,
   "metadata": {},
   "outputs": [],
   "source": [
    "# player_info_df = pd.DataFrame(player_info_df)\n",
    "# player_info_df.to_csv('../data/final_scrape.csv')"
   ]
  },
  {
   "cell_type": "markdown",
   "metadata": {},
   "source": [
    "#### Load scraped data"
   ]
  },
  {
   "cell_type": "code",
   "execution_count": 54,
   "metadata": {},
   "outputs": [],
   "source": [
    "player_info_df = pd.read_csv('../data/final_scrape.csv')\n",
    "player_info_df.drop('Unnamed: 0', axis=1, inplace=True)"
   ]
  },
  {
   "cell_type": "code",
   "execution_count": 55,
   "metadata": {},
   "outputs": [
    {
     "data": {
      "text/html": [
       "<div>\n",
       "<style scoped>\n",
       "    .dataframe tbody tr th:only-of-type {\n",
       "        vertical-align: middle;\n",
       "    }\n",
       "\n",
       "    .dataframe tbody tr th {\n",
       "        vertical-align: top;\n",
       "    }\n",
       "\n",
       "    .dataframe thead th {\n",
       "        text-align: right;\n",
       "    }\n",
       "</style>\n",
       "<table border=\"1\" class=\"dataframe\">\n",
       "  <thead>\n",
       "    <tr style=\"text-align: right;\">\n",
       "      <th></th>\n",
       "      <th>batter_id</th>\n",
       "      <th>height</th>\n",
       "      <th>weight</th>\n",
       "      <th>age</th>\n",
       "      <th>position</th>\n",
       "      <th>bats</th>\n",
       "      <th>throws</th>\n",
       "    </tr>\n",
       "  </thead>\n",
       "  <tbody>\n",
       "    <tr>\n",
       "      <th>0</th>\n",
       "      <td>592450</td>\n",
       "      <td>6' 7\"</td>\n",
       "      <td>282</td>\n",
       "      <td>26</td>\n",
       "      <td>RF</td>\n",
       "      <td>R</td>\n",
       "      <td>R</td>\n",
       "    </tr>\n",
       "    <tr>\n",
       "      <th>1</th>\n",
       "      <td>519317</td>\n",
       "      <td>6' 6\"</td>\n",
       "      <td>245</td>\n",
       "      <td>28</td>\n",
       "      <td>LF</td>\n",
       "      <td>R</td>\n",
       "      <td>R</td>\n",
       "    </tr>\n",
       "    <tr>\n",
       "      <th>2</th>\n",
       "      <td>471865</td>\n",
       "      <td>6' 1\"</td>\n",
       "      <td>220</td>\n",
       "      <td>32</td>\n",
       "      <td>RF</td>\n",
       "      <td>L</td>\n",
       "      <td>L</td>\n",
       "    </tr>\n",
       "    <tr>\n",
       "      <th>3</th>\n",
       "      <td>443558</td>\n",
       "      <td>6' 2\"</td>\n",
       "      <td>230</td>\n",
       "      <td>38</td>\n",
       "      <td>DH</td>\n",
       "      <td>R</td>\n",
       "      <td>R</td>\n",
       "    </tr>\n",
       "    <tr>\n",
       "      <th>4</th>\n",
       "      <td>121347</td>\n",
       "      <td>6' 3\"</td>\n",
       "      <td>230</td>\n",
       "      <td>43</td>\n",
       "      <td>SS</td>\n",
       "      <td>R</td>\n",
       "      <td>R</td>\n",
       "    </tr>\n",
       "  </tbody>\n",
       "</table>\n",
       "</div>"
      ],
      "text/plain": [
       "   batter_id height  weight  age position bats throws\n",
       "0     592450  6' 7\"     282   26       RF    R      R\n",
       "1     519317  6' 6\"     245   28       LF    R      R\n",
       "2     471865  6' 1\"     220   32       RF    L      L\n",
       "3     443558  6' 2\"     230   38       DH    R      R\n",
       "4     121347  6' 3\"     230   43       SS    R      R"
      ]
     },
     "execution_count": 55,
     "metadata": {},
     "output_type": "execute_result"
    }
   ],
   "source": [
    "player_info_df.head()"
   ]
  },
  {
   "cell_type": "code",
   "execution_count": 57,
   "metadata": {},
   "outputs": [],
   "source": [
    "final_player_info_df = player_info_df[['batter_id', 'height', 'weight', 'age']]"
   ]
  },
  {
   "cell_type": "code",
   "execution_count": 58,
   "metadata": {},
   "outputs": [
    {
     "data": {
      "text/plain": [
       "'Total number of unique players: 751'"
      ]
     },
     "execution_count": 58,
     "metadata": {},
     "output_type": "execute_result"
    }
   ],
   "source": [
    "f'Total number of unique players: {len(final_player_info_df.drop_duplicates())}'"
   ]
  },
  {
   "cell_type": "markdown",
   "metadata": {},
   "source": [
    "#### Convert all players heights to inches"
   ]
  },
  {
   "cell_type": "code",
   "execution_count": 59,
   "metadata": {},
   "outputs": [],
   "source": [
    "def height(height_str):\n",
    "    feet, inches = height_str.split(\"' \")\n",
    "    feet = int(feet)\n",
    "    inches = int(inches[:-1])\n",
    "    return 12 * feet + inches"
   ]
  },
  {
   "cell_type": "code",
   "execution_count": null,
   "metadata": {},
   "outputs": [],
   "source": [
    "final_player_info_df['height'] = final_player_info_df['height'].map(height)"
   ]
  },
  {
   "cell_type": "markdown",
   "metadata": {},
   "source": [
    "### Save Data"
   ]
  },
  {
   "cell_type": "code",
   "execution_count": 63,
   "metadata": {},
   "outputs": [],
   "source": [
    "final_player_info_df.to_csv('../data/final_clean_player_info.csv')"
   ]
  },
  {
   "cell_type": "markdown",
   "metadata": {},
   "source": [
    "##### Now lets explore the data: 02-EDA"
   ]
  }
 ],
 "metadata": {
  "kernelspec": {
   "display_name": "Python 3",
   "language": "python",
   "name": "python3"
  },
  "language_info": {
   "codemirror_mode": {
    "name": "ipython",
    "version": 3
   },
   "file_extension": ".py",
   "mimetype": "text/x-python",
   "name": "python",
   "nbconvert_exporter": "python",
   "pygments_lexer": "ipython3",
   "version": "3.6.5"
  }
 },
 "nbformat": 4,
 "nbformat_minor": 2
}
