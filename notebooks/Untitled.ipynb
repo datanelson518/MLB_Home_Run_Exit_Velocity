{
 "cells": [
  {
   "cell_type": "code",
   "execution_count": 8,
   "metadata": {},
   "outputs": [],
   "source": [
    "import pandas as pd\n",
    "import numpy as np\n",
    "from scipy import stats \n",
    "\n",
    "#pd.set_option('display.max_columns', None)\n",
    "#pd.set_option('display.max_rows', None)\n",
    "\n",
    "from bs4 import BeautifulSoup\n",
    "import requests\n",
    "import time"
   ]
  },
  {
   "cell_type": "code",
   "execution_count": null,
   "metadata": {},
   "outputs": [],
   "source": [
    "url = \"https://baseballsavant.mlb.com/savant-player/j-d-martinez-502110?stats=career-r-hitting-mlb\"\n",
    "res =  requests.get(url)"
   ]
  },
  {
   "cell_type": "code",
   "execution_count": null,
   "metadata": {},
   "outputs": [],
   "source": [
    "soup = BeautifulSoup(res.content, 'lxml')"
   ]
  },
  {
   "cell_type": "code",
   "execution_count": null,
   "metadata": {},
   "outputs": [],
   "source": [
    "jd_martinez_player = soup.find('section', {'id':'player'})"
   ]
  },
  {
   "cell_type": "code",
   "execution_count": 10,
   "metadata": {},
   "outputs": [],
   "source": [
    "batter_id = [471865, 121347]"
   ]
  },
  {
   "cell_type": "code",
   "execution_count": 9,
   "metadata": {},
   "outputs": [],
   "source": [
    "hr_df = pd.read_csv('../data/clean_hr.csv')"
   ]
  },
  {
   "cell_type": "code",
   "execution_count": 13,
   "metadata": {},
   "outputs": [],
   "source": [
    "batter_id = list(hr_df['batter'].unique())"
   ]
  },
  {
   "cell_type": "code",
   "execution_count": 14,
   "metadata": {},
   "outputs": [
    {
     "data": {
      "text/plain": [
       "751"
      ]
     },
     "execution_count": 14,
     "metadata": {},
     "output_type": "execute_result"
    }
   ],
   "source": [
    "len(batter_id)"
   ]
  },
  {
   "cell_type": "code",
   "execution_count": 15,
   "metadata": {},
   "outputs": [],
   "source": [
    "def get_batters_info(batter_id):\n",
    "    attrs = {\n",
    "        'batter_id': batter_id,\n",
    "        'height':[],\n",
    "        'weight':[],\n",
    "        'age':[],\n",
    "        'position':[],\n",
    "        'bats':[],\n",
    "        'throws':[]\n",
    "    }\n",
    "\n",
    "    attr_names = [\n",
    "        'height',\n",
    "        'weight',\n",
    "        'age',\n",
    "        'position',\n",
    "        'bats',\n",
    "        'throws'\n",
    "    ]\n",
    "\n",
    "    for b in batter_id:\n",
    "        url = \"https://baseballsavant.mlb.com/savant-player/{}?stats=career-r-hitting-mlb\".format(b)\n",
    "        res =  requests.get(url)\n",
    "        soup = BeautifulSoup(res.content, 'lxml')\n",
    "        for col_name, attribute in zip(attr_names, soup.find_all('div', {'class':'box-text'})):\n",
    "            attrs[col_name].append(attribute.text)\n",
    "    return attrs"
   ]
  },
  {
   "cell_type": "code",
   "execution_count": null,
   "metadata": {},
   "outputs": [],
   "source": [
    "batters_final = get_batters_info(batter_id)"
   ]
  },
  {
   "cell_type": "code",
   "execution_count": null,
   "metadata": {},
   "outputs": [],
   "source": []
  },
  {
   "cell_type": "code",
   "execution_count": 6,
   "metadata": {
    "scrolled": true
   },
   "outputs": [
    {
     "data": {
      "text/html": [
       "<div>\n",
       "<style scoped>\n",
       "    .dataframe tbody tr th:only-of-type {\n",
       "        vertical-align: middle;\n",
       "    }\n",
       "\n",
       "    .dataframe tbody tr th {\n",
       "        vertical-align: top;\n",
       "    }\n",
       "\n",
       "    .dataframe thead th {\n",
       "        text-align: right;\n",
       "    }\n",
       "</style>\n",
       "<table border=\"1\" class=\"dataframe\">\n",
       "  <thead>\n",
       "    <tr style=\"text-align: right;\">\n",
       "      <th></th>\n",
       "      <th>batter_id</th>\n",
       "      <th>height</th>\n",
       "      <th>weight</th>\n",
       "      <th>age</th>\n",
       "      <th>position</th>\n",
       "      <th>bats</th>\n",
       "      <th>throws</th>\n",
       "    </tr>\n",
       "  </thead>\n",
       "  <tbody>\n",
       "    <tr>\n",
       "      <th>0</th>\n",
       "      <td>471865</td>\n",
       "      <td>6' 1\"</td>\n",
       "      <td>220</td>\n",
       "      <td>32</td>\n",
       "      <td>RF</td>\n",
       "      <td>L</td>\n",
       "      <td>L</td>\n",
       "    </tr>\n",
       "    <tr>\n",
       "      <th>1</th>\n",
       "      <td>121347</td>\n",
       "      <td>6' 3\"</td>\n",
       "      <td>230</td>\n",
       "      <td>43</td>\n",
       "      <td>SS</td>\n",
       "      <td>R</td>\n",
       "      <td>R</td>\n",
       "    </tr>\n",
       "    <tr>\n",
       "      <th>2</th>\n",
       "      <td>446308</td>\n",
       "      <td>6' 5\"</td>\n",
       "      <td>235</td>\n",
       "      <td>32</td>\n",
       "      <td>C</td>\n",
       "      <td>S</td>\n",
       "      <td>R</td>\n",
       "    </tr>\n",
       "    <tr>\n",
       "      <th>3</th>\n",
       "      <td>455139</td>\n",
       "      <td>6' 1\"</td>\n",
       "      <td>210</td>\n",
       "      <td>34</td>\n",
       "      <td>C</td>\n",
       "      <td>R</td>\n",
       "      <td>R</td>\n",
       "    </tr>\n",
       "    <tr>\n",
       "      <th>4</th>\n",
       "      <td>543768</td>\n",
       "      <td>6' 4\"</td>\n",
       "      <td>230</td>\n",
       "      <td>28</td>\n",
       "      <td>3B</td>\n",
       "      <td>L</td>\n",
       "      <td>R</td>\n",
       "    </tr>\n",
       "    <tr>\n",
       "      <th>5</th>\n",
       "      <td>446308</td>\n",
       "      <td>6' 5\"</td>\n",
       "      <td>235</td>\n",
       "      <td>32</td>\n",
       "      <td>C</td>\n",
       "      <td>S</td>\n",
       "      <td>R</td>\n",
       "    </tr>\n",
       "    <tr>\n",
       "      <th>6</th>\n",
       "      <td>456665</td>\n",
       "      <td>5' 11\"</td>\n",
       "      <td>200</td>\n",
       "      <td>35</td>\n",
       "      <td>1B</td>\n",
       "      <td>R</td>\n",
       "      <td>R</td>\n",
       "    </tr>\n",
       "    <tr>\n",
       "      <th>7</th>\n",
       "      <td>471865</td>\n",
       "      <td>6' 1\"</td>\n",
       "      <td>220</td>\n",
       "      <td>32</td>\n",
       "      <td>RF</td>\n",
       "      <td>L</td>\n",
       "      <td>L</td>\n",
       "    </tr>\n",
       "    <tr>\n",
       "      <th>8</th>\n",
       "      <td>121347</td>\n",
       "      <td>6' 3\"</td>\n",
       "      <td>230</td>\n",
       "      <td>43</td>\n",
       "      <td>SS</td>\n",
       "      <td>R</td>\n",
       "      <td>R</td>\n",
       "    </tr>\n",
       "    <tr>\n",
       "      <th>9</th>\n",
       "      <td>446308</td>\n",
       "      <td>6' 5\"</td>\n",
       "      <td>235</td>\n",
       "      <td>32</td>\n",
       "      <td>C</td>\n",
       "      <td>S</td>\n",
       "      <td>R</td>\n",
       "    </tr>\n",
       "  </tbody>\n",
       "</table>\n",
       "</div>"
      ],
      "text/plain": [
       "   batter_id  height weight age position bats throws\n",
       "0     471865   6' 1\"    220  32       RF    L      L\n",
       "1     121347   6' 3\"    230  43       SS    R      R\n",
       "2     446308   6' 5\"    235  32        C    S      R\n",
       "3     455139   6' 1\"    210  34        C    R      R\n",
       "4     543768   6' 4\"    230  28       3B    L      R\n",
       "5     446308   6' 5\"    235  32        C    S      R\n",
       "6     456665  5' 11\"    200  35       1B    R      R\n",
       "7     471865   6' 1\"    220  32       RF    L      L\n",
       "8     121347   6' 3\"    230  43       SS    R      R\n",
       "9     446308   6' 5\"    235  32        C    S      R"
      ]
     },
     "execution_count": 6,
     "metadata": {},
     "output_type": "execute_result"
    }
   ],
   "source": [
    "pd.DataFrame(batter_final_dict)"
   ]
  },
  {
   "cell_type": "code",
   "execution_count": null,
   "metadata": {},
   "outputs": [],
   "source": []
  },
  {
   "cell_type": "code",
   "execution_count": null,
   "metadata": {},
   "outputs": [],
   "source": []
  },
  {
   "cell_type": "code",
   "execution_count": null,
   "metadata": {},
   "outputs": [],
   "source": []
  },
  {
   "cell_type": "code",
   "execution_count": null,
   "metadata": {},
   "outputs": [],
   "source": []
  },
  {
   "cell_type": "code",
   "execution_count": null,
   "metadata": {},
   "outputs": [],
   "source": [
    "\n",
    "for \n",
    "\n",
    "jd_final = []\n",
    "jd_temp = []\n",
    "for j in jd_martinez_player.find_all('div', {'class':'box-text'}):\n",
    "    temp = j.text\n",
    "    jd_temp.append(temp)\n",
    "jd_temp\n",
    "jd_dict = {}\n",
    "jd_dict['height']   = jd_temp[0]\n",
    "jd_dict['weight']   = jd_temp[1]\n",
    "jd_dict['age']      = jd_temp[2]\n",
    "jd_dict['position'] = jd_temp[3]\n",
    "jd_dict['bats']     = jd_temp[4]\n",
    "jd_dict['throws']   = jd_temp[5]\n",
    "jd_final.append(jd_dict)\n",
    "jd_final"
   ]
  },
  {
   "cell_type": "code",
   "execution_count": 8,
   "metadata": {},
   "outputs": [],
   "source": [
    "def get_batters(batter_ids):\n",
    "    \n",
    "    batter_final_list = []\n",
    "    batter_temp_list  = []\n",
    "    batter_temp2_dict = {}\n",
    "    batter_temp_dict  = {}\n",
    "    for b in batter_ids:\n",
    "        url = \"https://baseballsavant.mlb.com/savant-player/{}?stats=career-r-hitting-mlb\".format(b)\n",
    "        res =  requests.get(url)\n",
    "        soup = BeautifulSoup(res.content, 'lxml')\n",
    "        \n",
    "        #batter_temp2_dict[b] = batter_temp_dict\n",
    "        \n",
    "        #batter_temp2_dict[b] = batter_temp_dict\n",
    "        \n",
    "        for row in soup.find_all('div', {'class':'box-text'}):\n",
    "            temp = row.text\n",
    "            batter_temp_list.append(temp)\n",
    "    batter_temp_list\n",
    "    batter_temp_dict['height']    = batter_temp_list[0]\n",
    "    batter_temp_dict['weight']    = batter_temp_list[1]\n",
    "    batter_temp_dict['age']       = batter_temp_list[2]\n",
    "    batter_temp_dict['position']  = batter_temp_list[3]\n",
    "    batter_temp_dict['bats']      = batter_temp_list[4]\n",
    "    batter_temp_dict['throws']    = batter_temp_list[5]\n",
    "    batter_temp_dict\n",
    "    batter_temp2_dict[b] = batter_temp_dict\n",
    "\n",
    "    batter_final_list.append(batter_temp2_dict)\n",
    "    return batter_final_list"
   ]
  },
  {
   "cell_type": "code",
   "execution_count": null,
   "metadata": {},
   "outputs": [],
   "source": []
  },
  {
   "cell_type": "code",
   "execution_count": 9,
   "metadata": {},
   "outputs": [
    {
     "data": {
      "text/plain": [
       "[{121347: {'height': '6\\' 3\"',\n",
       "   'weight': '220',\n",
       "   'age': '31',\n",
       "   'position': 'LF',\n",
       "   'bats': 'R',\n",
       "   'throws': 'R'}}]"
      ]
     },
     "execution_count": 9,
     "metadata": {},
     "output_type": "execute_result"
    }
   ],
   "source": [
    "get_batters(batter_ids=[502110,121347])"
   ]
  },
  {
   "cell_type": "code",
   "execution_count": null,
   "metadata": {},
   "outputs": [],
   "source": []
  },
  {
   "cell_type": "code",
   "execution_count": null,
   "metadata": {},
   "outputs": [],
   "source": [
    "jd_final = []\n",
    "jd_temp = []\n",
    "for j in jd_martinez_player.find_all('div', {'class':'box-text'}):\n",
    "    temp = j.text\n",
    "    jd_temp.append(temp)\n",
    "jd_temp\n",
    "# jd_dict = {}\n",
    "# jd_dict['height']   = jd_temp[0]\n",
    "# jd_dict['weight']   = jd_temp[1]\n",
    "# jd_dict['age']      = jd_temp[2]\n",
    "# jd_dict['position'] = jd_temp[3]\n",
    "# jd_dict['bats']     = jd_temp[4]\n",
    "# jd_dict['throws']   = jd_temp[5]\n",
    "# jd_final.append(jd_dict)\n",
    "# jd_final"
   ]
  },
  {
   "cell_type": "code",
   "execution_count": null,
   "metadata": {},
   "outputs": [],
   "source": []
  },
  {
   "cell_type": "code",
   "execution_count": null,
   "metadata": {},
   "outputs": [],
   "source": []
  },
  {
   "cell_type": "code",
   "execution_count": null,
   "metadata": {},
   "outputs": [],
   "source": []
  }
 ],
 "metadata": {
  "kernelspec": {
   "display_name": "Python 3",
   "language": "python",
   "name": "python3"
  },
  "language_info": {
   "codemirror_mode": {
    "name": "ipython",
    "version": 3
   },
   "file_extension": ".py",
   "mimetype": "text/x-python",
   "name": "python",
   "nbconvert_exporter": "python",
   "pygments_lexer": "ipython3",
   "version": "3.6.5"
  }
 },
 "nbformat": 4,
 "nbformat_minor": 2
}
